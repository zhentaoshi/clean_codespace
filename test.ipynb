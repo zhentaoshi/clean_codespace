{
 "cells": [
  {
   "cell_type": "markdown",
   "metadata": {},
   "source": [
    "# 最小二乘法：线性代数观点"
   ]
  },
  {
   "cell_type": "markdown",
   "metadata": {},
   "source": [
    "```{admonition} 《九章算术》第八章：方程\n",
    "今有卖牛二、羊五，以买十三豕，有馀钱一千。卖牛三、豕三，以买九羊，钱适足。卖羊六、豕八，以买五牛，钱不足六百。问牛、羊、豕价各几何?\n",
    "```"
   ]
  },
  {
   "cell_type": "markdown",
   "metadata": {},
   "source": [
    "$$\n",
    "\\left[\\begin{array}{r} \n",
    "2 & 5 & -13\\\\\n",
    "3 & -9 & 3\\\\\n",
    "-5 & 6 & 8\n",
    "\\end{array} \\right]\n",
    "\\left[\\begin{array}{c}\n",
    "牛\\\\\n",
    "羊\\\\\n",
    "猪\n",
    "\\end{array} \\right]\n",
    "=\n",
    "\\left[\\begin{array}{r}\n",
    "1000\\\\\n",
    "0\\\\\n",
    "-600\n",
    "\\end{array} \\right]\n",
    "$$"
   ]
  },
  {
   "cell_type": "code",
   "execution_count": 1,
   "metadata": {
    "vscode": {
     "languageId": "r"
    }
   },
   "outputs": [
    {
     "data": {
      "text/html": [
       "<style>\n",
       ".list-inline {list-style: none; margin:0; padding: 0}\n",
       ".list-inline>li {display: inline-block}\n",
       ".list-inline>li:not(:last-child)::after {content: \"\\00b7\"; padding: 0 .5ex}\n",
       "</style>\n",
       "<ol class=list-inline><li>1200</li><li>499.999999999999</li><li>299.999999999999</li></ol>\n"
      ],
      "text/latex": [
       "\\begin{enumerate*}\n",
       "\\item 1200\n",
       "\\item 499.999999999999\n",
       "\\item 299.999999999999\n",
       "\\end{enumerate*}\n"
      ],
      "text/markdown": [
       "1. 1200\n",
       "2. 499.999999999999\n",
       "3. 299.999999999999\n",
       "\n",
       "\n"
      ],
      "text/plain": [
       "[1] 1200  500  300"
      ]
     },
     "metadata": {},
     "output_type": "display_data"
    }
   ],
   "source": [
    "A = matrix(c(2, 3, -5, 5, -9, 6, -13, 3, 8), nrow = 3)\n",
    "b = c(1000, 0, -600)\n",
    "solve(A,b)"
   ]
  },
  {
   "cell_type": "markdown",
   "metadata": {},
   "source": [
    "\n",
    "## 总结\n",
    "\n",
    "以上有关线性代数的性质，在有限样本中是成立的，无论数据是固定数字或是随机变量。然而高斯马尔科夫定理（Gauss Markov theorem）只在两个关键假设下成立：线性的条件期望方程（linear CEF）和同方差性（homoscedasticity）。\n",
    "\n",
    "\n",
    "**历史趣闻.**\n",
    "高斯（1777--1855）宣称他在1795年就发明了最小二乘法，那时他用三个数据点预测了1801年矮行星谷神星的位置。虽然高斯在1809年才发表了相关文章，而勒让德（1752--1833）在1805年就公开提出了此方法，但今天人们仍倾向于将最小二乘法的发明归功于高斯。因为像高斯这样的数学巨人没有必要通过撒谎来窃取勒让德的成果。"
   ]
  },
  {
   "cell_type": "code",
   "execution_count": null,
   "metadata": {
    "vscode": {
     "languageId": "r"
    }
   },
   "outputs": [],
   "source": []
  }
 ],
 "metadata": {
  "kernelspec": {
   "display_name": "R",
   "language": "R",
   "name": "ir"
  },
  "language_info": {
   "codemirror_mode": "r",
   "file_extension": ".r",
   "mimetype": "text/x-r-source",
   "name": "R",
   "pygments_lexer": "r",
   "version": "4.1.3"
  }
 },
 "nbformat": 4,
 "nbformat_minor": 2
}
